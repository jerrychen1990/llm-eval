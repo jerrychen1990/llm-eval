{
 "cells": [
  {
   "cell_type": "code",
   "execution_count": 1,
   "metadata": {},
   "outputs": [
    {
     "name": "stdout",
     "output_type": "stream",
     "text": [
      "2\n"
     ]
    }
   ],
   "source": [
    "class C:\n",
    "    def prt(self, x):\n",
    "        print(x)\n",
    "        \n",
    "        \n",
    "c = C()\n",
    "func = c.prt\n",
    "\n",
    "\n",
    "func(2)"
   ]
  },
  {
   "cell_type": "code",
   "execution_count": 10,
   "metadata": {},
   "outputs": [
    {
     "name": "stderr",
     "output_type": "stream",
     "text": [
      "100%|██████████| 166/166 [00:00<00:00, 576369.59it/s]\n"
     ]
    },
    {
     "name": "stdout",
     "output_type": "stream",
     "text": [
      "get 166 to data/parsed/ceval/test/probability_and_statistics_test.jsonl\n"
     ]
    },
    {
     "name": "stderr",
     "output_type": "stream",
     "text": [
      "100%|██████████| 176/176 [00:00<00:00, 590558.00it/s]\n"
     ]
    },
    {
     "name": "stdout",
     "output_type": "stream",
     "text": [
      "get 176 to data/parsed/ceval/test/high_school_politics_test.jsonl\n"
     ]
    },
    {
     "name": "stderr",
     "output_type": "stream",
     "text": [
      "100%|██████████| 219/219 [00:00<00:00, 497590.78it/s]\n"
     ]
    },
    {
     "name": "stdout",
     "output_type": "stream",
     "text": [
      "get 219 to data/parsed/ceval/test/mao_zedong_thought_test.jsonl\n"
     ]
    },
    {
     "name": "stderr",
     "output_type": "stream",
     "text": [
      "100%|██████████| 185/185 [00:00<00:00, 677090.96it/s]\n"
     ]
    },
    {
     "name": "stdout",
     "output_type": "stream",
     "text": [
      "get 185 to data/parsed/ceval/test/middle_school_chemistry_test.jsonl\n"
     ]
    },
    {
     "name": "stderr",
     "output_type": "stream",
     "text": [
      "100%|██████████| 418/418 [00:00<00:00, 749238.92it/s]\n"
     ]
    },
    {
     "name": "stdout",
     "output_type": "stream",
     "text": [
      "get 418 to data/parsed/ceval/test/urban_and_rural_planner_test.jsonl\n"
     ]
    },
    {
     "name": "stderr",
     "output_type": "stream",
     "text": [
      "100%|██████████| 497/497 [00:00<00:00, 797768.50it/s]\n"
     ]
    },
    {
     "name": "stdout",
     "output_type": "stream",
     "text": [
      "get 497 to data/parsed/ceval/test/college_economics_test.jsonl\n"
     ]
    },
    {
     "name": "stderr",
     "output_type": "stream",
     "text": [
      "100%|██████████| 443/443 [00:00<00:00, 734708.06it/s]\n"
     ]
    },
    {
     "name": "stdout",
     "output_type": "stream",
     "text": [
      "get 443 to data/parsed/ceval/test/accountant_test.jsonl\n"
     ]
    },
    {
     "name": "stderr",
     "output_type": "stream",
     "text": [
      "100%|██████████| 172/172 [00:00<00:00, 748361.29it/s]\n"
     ]
    },
    {
     "name": "stdout",
     "output_type": "stream",
     "text": [
      "get 172 to data/parsed/ceval/test/high_school_chemistry_test.jsonl\n"
     ]
    },
    {
     "name": "stderr",
     "output_type": "stream",
     "text": [
      "100%|██████████| 180/180 [00:00<00:00, 695188.51it/s]\n"
     ]
    },
    {
     "name": "stdout",
     "output_type": "stream",
     "text": [
      "get 180 to data/parsed/ceval/test/sports_science_test.jsonl\n"
     ]
    },
    {
     "name": "stderr",
     "output_type": "stream",
     "text": [
      "100%|██████████| 176/176 [00:00<00:00, 735989.54it/s]\n"
     ]
    },
    {
     "name": "stdout",
     "output_type": "stream",
     "text": [
      "get 176 to data/parsed/ceval/test/college_physics_test.jsonl\n"
     ]
    },
    {
     "name": "stderr",
     "output_type": "stream",
     "text": [
      "100%|██████████| 210/210 [00:00<00:00, 706905.17it/s]\n"
     ]
    },
    {
     "name": "stdout",
     "output_type": "stream",
     "text": [
      "get 210 to data/parsed/ceval/test/veterinary_medicine_test.jsonl\n"
     ]
    },
    {
     "name": "stderr",
     "output_type": "stream",
     "text": [
      "100%|██████████| 192/192 [00:00<00:00, 765500.35it/s]\n"
     ]
    },
    {
     "name": "stdout",
     "output_type": "stream",
     "text": [
      "get 192 to data/parsed/ceval/test/middle_school_biology_test.jsonl\n"
     ]
    },
    {
     "name": "stderr",
     "output_type": "stream",
     "text": [
      "100%|██████████| 443/443 [00:00<00:00, 826546.56it/s]\n"
     ]
    },
    {
     "name": "stdout",
     "output_type": "stream",
     "text": [
      "get 443 to data/parsed/ceval/test/physician_test.jsonl\n"
     ]
    },
    {
     "name": "stderr",
     "output_type": "stream",
     "text": [
      "100%|██████████| 172/172 [00:00<00:00, 661246.83it/s]\n"
     ]
    },
    {
     "name": "stdout",
     "output_type": "stream",
     "text": [
      "get 172 to data/parsed/ceval/test/ideological_and_moral_cultivation_test.jsonl\n"
     ]
    },
    {
     "name": "stderr",
     "output_type": "stream",
     "text": [
      "100%|██████████| 178/178 [00:00<00:00, 806248.50it/s]\n"
     ]
    },
    {
     "name": "stdout",
     "output_type": "stream",
     "text": [
      "get 178 to data/parsed/ceval/test/high_school_chinese_test.jsonl\n"
     ]
    },
    {
     "name": "stderr",
     "output_type": "stream",
     "text": [
      "100%|██████████| 177/177 [00:00<00:00, 752932.87it/s]\n"
     ]
    },
    {
     "name": "stdout",
     "output_type": "stream",
     "text": [
      "get 177 to data/parsed/ceval/test/middle_school_mathematics_test.jsonl\n"
     ]
    },
    {
     "name": "stderr",
     "output_type": "stream",
     "text": [
      "100%|██████████| 199/199 [00:00<00:00, 726428.63it/s]\n"
     ]
    },
    {
     "name": "stdout",
     "output_type": "stream",
     "text": [
      "get 199 to data/parsed/ceval/test/plant_protection_test.jsonl\n"
     ]
    },
    {
     "name": "stderr",
     "output_type": "stream",
     "text": [
      "100%|██████████| 219/219 [00:00<00:00, 744973.70it/s]\n"
     ]
    },
    {
     "name": "stdout",
     "output_type": "stream",
     "text": [
      "get 219 to data/parsed/ceval/test/metrology_engineer_test.jsonl\n"
     ]
    },
    {
     "name": "stderr",
     "output_type": "stream",
     "text": [
      "100%|██████████| 443/443 [00:00<00:00, 750738.05it/s]\n"
     ]
    },
    {
     "name": "stdout",
     "output_type": "stream",
     "text": [
      "get 443 to data/parsed/ceval/test/tax_accountant_test.jsonl\n"
     ]
    },
    {
     "name": "stderr",
     "output_type": "stream",
     "text": [
      "100%|██████████| 212/212 [00:00<00:00, 801796.62it/s]\n"
     ]
    },
    {
     "name": "stdout",
     "output_type": "stream",
     "text": [
      "get 212 to data/parsed/ceval/test/modern_chinese_history_test.jsonl\n"
     ]
    },
    {
     "name": "stderr",
     "output_type": "stream",
     "text": [
      "100%|██████████| 175/175 [00:00<00:00, 694421.19it/s]\n"
     ]
    },
    {
     "name": "stdout",
     "output_type": "stream",
     "text": [
      "get 175 to data/parsed/ceval/test/high_school_physics_test.jsonl\n"
     ]
    },
    {
     "name": "stderr",
     "output_type": "stream",
     "text": [
      "100%|██████████| 207/207 [00:00<00:00, 828455.08it/s]\n"
     ]
    },
    {
     "name": "stdout",
     "output_type": "stream",
     "text": [
      "get 207 to data/parsed/ceval/test/middle_school_history_test.jsonl\n"
     ]
    },
    {
     "name": "stderr",
     "output_type": "stream",
     "text": [
      "100%|██████████| 282/282 [00:00<00:00, 722979.05it/s]\n"
     ]
    },
    {
     "name": "stdout",
     "output_type": "stream",
     "text": [
      "get 282 to data/parsed/ceval/test/fire_engineer_test.jsonl\n"
     ]
    },
    {
     "name": "stderr",
     "output_type": "stream",
     "text": [
      "100%|██████████| 193/193 [00:00<00:00, 714475.44it/s]\n"
     ]
    },
    {
     "name": "stdout",
     "output_type": "stream",
     "text": [
      "get 193 to data/parsed/ceval/test/computer_architecture_test.jsonl\n"
     ]
    },
    {
     "name": "stderr",
     "output_type": "stream",
     "text": [
      "100%|██████████| 266/266 [00:00<00:00, 714724.45it/s]\n"
     ]
    },
    {
     "name": "stdout",
     "output_type": "stream",
     "text": [
      "get 266 to data/parsed/ceval/test/professional_tour_guide_test.jsonl\n"
     ]
    },
    {
     "name": "stderr",
     "output_type": "stream",
     "text": [
      "100%|██████████| 298/298 [00:00<00:00, 600914.71it/s]\n"
     ]
    },
    {
     "name": "stdout",
     "output_type": "stream",
     "text": [
      "get 298 to data/parsed/ceval/test/art_studies_test.jsonl\n"
     ]
    },
    {
     "name": "stderr",
     "output_type": "stream",
     "text": [
      "100%|██████████| 399/399 [00:00<00:00, 765916.38it/s]\n"
     ]
    },
    {
     "name": "stdout",
     "output_type": "stream",
     "text": [
      "get 399 to data/parsed/ceval/test/teacher_qualification_test.jsonl\n"
     ]
    },
    {
     "name": "stderr",
     "output_type": "stream",
     "text": [
      "100%|██████████| 178/178 [00:00<00:00, 703662.69it/s]\n"
     ]
    },
    {
     "name": "stdout",
     "output_type": "stream",
     "text": [
      "get 178 to data/parsed/ceval/test/high_school_geography_test.jsonl\n"
     ]
    },
    {
     "name": "stderr",
     "output_type": "stream",
     "text": [
      "100%|██████████| 270/270 [00:00<00:00, 805449.56it/s]\n"
     ]
    },
    {
     "name": "stdout",
     "output_type": "stream",
     "text": [
      "get 270 to data/parsed/ceval/test/education_science_test.jsonl\n"
     ]
    },
    {
     "name": "stderr",
     "output_type": "stream",
     "text": [
      "100%|██████████| 204/204 [00:00<00:00, 705971.96it/s]\n"
     ]
    },
    {
     "name": "stdout",
     "output_type": "stream",
     "text": [
      "get 204 to data/parsed/ceval/test/logic_test.jsonl\n"
     ]
    },
    {
     "name": "stderr",
     "output_type": "stream",
     "text": [
      "100%|██████████| 301/301 [00:00<00:00, 727238.19it/s]\n"
     ]
    },
    {
     "name": "stdout",
     "output_type": "stream",
     "text": [
      "get 301 to data/parsed/ceval/test/business_administration_test.jsonl\n"
     ]
    },
    {
     "name": "stderr",
     "output_type": "stream",
     "text": [
      "100%|██████████| 179/179 [00:00<00:00, 719138.33it/s]\n"
     ]
    },
    {
     "name": "stdout",
     "output_type": "stream",
     "text": [
      "get 179 to data/parsed/ceval/test/operating_system_test.jsonl\n"
     ]
    },
    {
     "name": "stderr",
     "output_type": "stream",
     "text": [
      "100%|██████████| 429/429 [00:00<00:00, 701230.09it/s]\n"
     ]
    },
    {
     "name": "stdout",
     "output_type": "stream",
     "text": [
      "get 429 to data/parsed/ceval/test/civil_servant_test.jsonl\n"
     ]
    },
    {
     "name": "stderr",
     "output_type": "stream",
     "text": [
      "100%|██████████| 342/342 [00:00<00:00, 806778.38it/s]\n"
     ]
    },
    {
     "name": "stdout",
     "output_type": "stream",
     "text": [
      "get 342 to data/parsed/ceval/test/college_programming_test.jsonl\n"
     ]
    },
    {
     "name": "stderr",
     "output_type": "stream",
     "text": [
      "100%|██████████| 175/175 [00:00<00:00, 703068.20it/s]\n"
     ]
    },
    {
     "name": "stdout",
     "output_type": "stream",
     "text": [
      "get 175 to data/parsed/ceval/test/high_school_biology_test.jsonl\n"
     ]
    },
    {
     "name": "stderr",
     "output_type": "stream",
     "text": [
      "100%|██████████| 221/221 [00:00<00:00, 794975.29it/s]\n"
     ]
    },
    {
     "name": "stdout",
     "output_type": "stream",
     "text": [
      "get 221 to data/parsed/ceval/test/law_test.jsonl\n"
     ]
    },
    {
     "name": "stderr",
     "output_type": "stream",
     "text": [
      "100%|██████████| 108/108 [00:00<00:00, 746268.26it/s]\n"
     ]
    },
    {
     "name": "stdout",
     "output_type": "stream",
     "text": [
      "get 108 to data/parsed/ceval/test/middle_school_geography_test.jsonl\n"
     ]
    },
    {
     "name": "stderr",
     "output_type": "stream",
     "text": [
      "100%|██████████| 224/224 [00:00<00:00, 712840.74it/s]\n"
     ]
    },
    {
     "name": "stdout",
     "output_type": "stream",
     "text": [
      "get 224 to data/parsed/ceval/test/college_chemistry_test.jsonl\n"
     ]
    },
    {
     "name": "stderr",
     "output_type": "stream",
     "text": [
      "100%|██████████| 175/175 [00:00<00:00, 691803.20it/s]\n"
     ]
    },
    {
     "name": "stdout",
     "output_type": "stream",
     "text": [
      "get 175 to data/parsed/ceval/test/basic_medicine_test.jsonl\n"
     ]
    },
    {
     "name": "stderr",
     "output_type": "stream",
     "text": [
      "100%|██████████| 178/178 [00:00<00:00, 787538.09it/s]\n"
     ]
    },
    {
     "name": "stdout",
     "output_type": "stream",
     "text": [
      "get 178 to data/parsed/ceval/test/middle_school_physics_test.jsonl\n"
     ]
    },
    {
     "name": "stderr",
     "output_type": "stream",
     "text": [
      "100%|██████████| 200/200 [00:00<00:00, 748982.86it/s]\n"
     ]
    },
    {
     "name": "stdout",
     "output_type": "stream",
     "text": [
      "get 200 to data/parsed/ceval/test/clinical_medicine_test.jsonl\n"
     ]
    },
    {
     "name": "stderr",
     "output_type": "stream",
     "text": [
      "100%|██████████| 173/173 [00:00<00:00, 708608.00it/s]\n"
     ]
    },
    {
     "name": "stdout",
     "output_type": "stream",
     "text": [
      "get 173 to data/parsed/ceval/test/advanced_mathematics_test.jsonl\n"
     ]
    },
    {
     "name": "stderr",
     "output_type": "stream",
     "text": [
      "100%|██████████| 193/193 [00:00<00:00, 701473.72it/s]\n"
     ]
    },
    {
     "name": "stdout",
     "output_type": "stream",
     "text": [
      "get 193 to data/parsed/ceval/test/middle_school_politics_test.jsonl\n"
     ]
    },
    {
     "name": "stderr",
     "output_type": "stream",
     "text": [
      "100%|██████████| 339/339 [00:00<00:00, 716667.87it/s]\n"
     ]
    },
    {
     "name": "stdout",
     "output_type": "stream",
     "text": [
      "get 339 to data/parsed/ceval/test/electrical_engineer_test.jsonl\n"
     ]
    },
    {
     "name": "stderr",
     "output_type": "stream",
     "text": [
      "100%|██████████| 209/209 [00:00<00:00, 741632.43it/s]\n"
     ]
    },
    {
     "name": "stdout",
     "output_type": "stream",
     "text": [
      "get 209 to data/parsed/ceval/test/chinese_language_and_literature_test.jsonl\n"
     ]
    },
    {
     "name": "stderr",
     "output_type": "stream",
     "text": [
      "100%|██████████| 215/215 [00:00<00:00, 467483.34it/s]\n"
     ]
    },
    {
     "name": "stdout",
     "output_type": "stream",
     "text": [
      "get 215 to data/parsed/ceval/test/legal_professional_test.jsonl\n"
     ]
    },
    {
     "name": "stderr",
     "output_type": "stream",
     "text": [
      "100%|██████████| 281/281 [00:00<00:00, 470686.67it/s]\n"
     ]
    },
    {
     "name": "stdout",
     "output_type": "stream",
     "text": [
      "get 281 to data/parsed/ceval/test/environmental_impact_assessment_engineer_test.jsonl\n"
     ]
    },
    {
     "name": "stderr",
     "output_type": "stream",
     "text": [
      "100%|██████████| 166/166 [00:00<00:00, 228055.83it/s]\n"
     ]
    },
    {
     "name": "stdout",
     "output_type": "stream",
     "text": [
      "get 166 to data/parsed/ceval/test/high_school_mathematics_test.jsonl\n"
     ]
    },
    {
     "name": "stderr",
     "output_type": "stream",
     "text": [
      "100%|██████████| 153/153 [00:00<00:00, 662258.53it/s]\n"
     ]
    },
    {
     "name": "stdout",
     "output_type": "stream",
     "text": [
      "get 153 to data/parsed/ceval/test/discrete_mathematics_test.jsonl\n"
     ]
    },
    {
     "name": "stderr",
     "output_type": "stream",
     "text": [
      "100%|██████████| 179/179 [00:00<00:00, 724691.52it/s]\n"
     ]
    },
    {
     "name": "stdout",
     "output_type": "stream",
     "text": [
      "get 179 to data/parsed/ceval/test/marxism_test.jsonl\n"
     ]
    },
    {
     "name": "stderr",
     "output_type": "stream",
     "text": [
      "100%|██████████| 171/171 [00:00<00:00, 750236.38it/s]\n"
     ]
    },
    {
     "name": "stdout",
     "output_type": "stream",
     "text": [
      "get 171 to data/parsed/ceval/test/computer_network_test.jsonl\n"
     ]
    },
    {
     "name": "stderr",
     "output_type": "stream",
     "text": [
      "100%|██████████| 182/182 [00:00<00:00, 731190.93it/s]\n"
     ]
    },
    {
     "name": "stdout",
     "output_type": "stream",
     "text": [
      "get 182 to data/parsed/ceval/test/high_school_history_test.jsonl\n"
     ]
    },
    {
     "name": "stderr",
     "output_type": "stream",
     "text": [
      "100%|██████████| 5/5 [00:00<00:00, 119156.36it/s]\n"
     ]
    },
    {
     "name": "stdout",
     "output_type": "stream",
     "text": [
      "get 5 to data/parsed/ceval/dev/teacher_qualification_dev.jsonl\n"
     ]
    },
    {
     "name": "stderr",
     "output_type": "stream",
     "text": [
      "100%|██████████| 5/5 [00:00<00:00, 102300.10it/s]\n"
     ]
    },
    {
     "name": "stdout",
     "output_type": "stream",
     "text": [
      "get 5 to data/parsed/ceval/dev/environmental_impact_assessment_engineer_dev.jsonl\n"
     ]
    },
    {
     "name": "stderr",
     "output_type": "stream",
     "text": [
      "100%|██████████| 5/5 [00:00<00:00, 92794.34it/s]\n"
     ]
    },
    {
     "name": "stdout",
     "output_type": "stream",
     "text": [
      "get 5 to data/parsed/ceval/dev/college_programming_dev.jsonl\n"
     ]
    },
    {
     "name": "stderr",
     "output_type": "stream",
     "text": [
      "100%|██████████| 5/5 [00:00<00:00, 108660.73it/s]\n"
     ]
    },
    {
     "name": "stdout",
     "output_type": "stream",
     "text": [
      "get 5 to data/parsed/ceval/dev/middle_school_geography_dev.jsonl\n"
     ]
    },
    {
     "name": "stderr",
     "output_type": "stream",
     "text": [
      "100%|██████████| 5/5 [00:00<00:00, 154202.35it/s]\n"
     ]
    },
    {
     "name": "stdout",
     "output_type": "stream",
     "text": [
      "get 5 to data/parsed/ceval/dev/education_science_dev.jsonl\n"
     ]
    },
    {
     "name": "stderr",
     "output_type": "stream",
     "text": [
      "100%|██████████| 5/5 [00:00<00:00, 108660.73it/s]\n"
     ]
    },
    {
     "name": "stdout",
     "output_type": "stream",
     "text": [
      "get 5 to data/parsed/ceval/dev/civil_servant_dev.jsonl\n"
     ]
    },
    {
     "name": "stderr",
     "output_type": "stream",
     "text": [
      "100%|██████████| 5/5 [00:00<00:00, 100342.20it/s]\n"
     ]
    },
    {
     "name": "stdout",
     "output_type": "stream",
     "text": [
      "get 5 to data/parsed/ceval/dev/mao_zedong_thought_dev.jsonl\n"
     ]
    },
    {
     "name": "stderr",
     "output_type": "stream",
     "text": [
      "100%|██████████| 5/5 [00:00<00:00, 103819.41it/s]\n"
     ]
    },
    {
     "name": "stdout",
     "output_type": "stream",
     "text": [
      "get 5 to data/parsed/ceval/dev/physician_dev.jsonl\n"
     ]
    },
    {
     "name": "stderr",
     "output_type": "stream",
     "text": [
      "100%|██████████| 5/5 [00:00<00:00, 103819.41it/s]\n"
     ]
    },
    {
     "name": "stdout",
     "output_type": "stream",
     "text": [
      "get 5 to data/parsed/ceval/dev/veterinary_medicine_dev.jsonl\n"
     ]
    },
    {
     "name": "stderr",
     "output_type": "stream",
     "text": [
      "100%|██████████| 5/5 [00:00<00:00, 74367.09it/s]\n"
     ]
    },
    {
     "name": "stdout",
     "output_type": "stream",
     "text": [
      "get 5 to data/parsed/ceval/dev/clinical_medicine_dev.jsonl\n"
     ]
    },
    {
     "name": "stderr",
     "output_type": "stream",
     "text": [
      "100%|██████████| 5/5 [00:00<00:00, 82891.38it/s]\n"
     ]
    },
    {
     "name": "stdout",
     "output_type": "stream",
     "text": [
      "get 5 to data/parsed/ceval/dev/high_school_chemistry_dev.jsonl\n"
     ]
    },
    {
     "name": "stderr",
     "output_type": "stream",
     "text": [
      "100%|██████████| 5/5 [00:00<00:00, 122640.47it/s]\n"
     ]
    },
    {
     "name": "stdout",
     "output_type": "stream",
     "text": [
      "get 5 to data/parsed/ceval/dev/fire_engineer_dev.jsonl\n"
     ]
    },
    {
     "name": "stderr",
     "output_type": "stream",
     "text": [
      "100%|██████████| 5/5 [00:00<00:00, 113359.57it/s]\n"
     ]
    },
    {
     "name": "stdout",
     "output_type": "stream",
     "text": [
      "get 5 to data/parsed/ceval/dev/probability_and_statistics_dev.jsonl\n"
     ]
    },
    {
     "name": "stderr",
     "output_type": "stream",
     "text": [
      "100%|██████████| 5/5 [00:00<00:00, 99864.38it/s]\n"
     ]
    },
    {
     "name": "stdout",
     "output_type": "stream",
     "text": [
      "get 5 to data/parsed/ceval/dev/college_economics_dev.jsonl\n"
     ]
    },
    {
     "name": "stderr",
     "output_type": "stream",
     "text": [
      "100%|██████████| 5/5 [00:00<00:00, 156503.88it/s]\n"
     ]
    },
    {
     "name": "stdout",
     "output_type": "stream",
     "text": [
      "get 5 to data/parsed/ceval/dev/high_school_politics_dev.jsonl\n"
     ]
    },
    {
     "name": "stderr",
     "output_type": "stream",
     "text": [
      "100%|██████████| 5/5 [00:00<00:00, 142663.40it/s]\n"
     ]
    },
    {
     "name": "stdout",
     "output_type": "stream",
     "text": [
      "get 5 to data/parsed/ceval/dev/discrete_mathematics_dev.jsonl\n"
     ]
    },
    {
     "name": "stderr",
     "output_type": "stream",
     "text": [
      "100%|██████████| 5/5 [00:00<00:00, 151967.54it/s]\n"
     ]
    },
    {
     "name": "stdout",
     "output_type": "stream",
     "text": [
      "get 5 to data/parsed/ceval/dev/basic_medicine_dev.jsonl\n"
     ]
    },
    {
     "name": "stderr",
     "output_type": "stream",
     "text": [
      "100%|██████████| 5/5 [00:00<00:00, 96199.63it/s]\n"
     ]
    },
    {
     "name": "stdout",
     "output_type": "stream",
     "text": [
      "get 5 to data/parsed/ceval/dev/electrical_engineer_dev.jsonl\n"
     ]
    },
    {
     "name": "stderr",
     "output_type": "stream",
     "text": [
      "100%|██████████| 5/5 [00:00<00:00, 108660.73it/s]\n"
     ]
    },
    {
     "name": "stdout",
     "output_type": "stream",
     "text": [
      "get 5 to data/parsed/ceval/dev/logic_dev.jsonl\n"
     ]
    },
    {
     "name": "stderr",
     "output_type": "stream",
     "text": [
      "100%|██████████| 5/5 [00:00<00:00, 119156.36it/s]\n"
     ]
    },
    {
     "name": "stdout",
     "output_type": "stream",
     "text": [
      "get 5 to data/parsed/ceval/dev/sports_science_dev.jsonl\n"
     ]
    },
    {
     "name": "stderr",
     "output_type": "stream",
     "text": [
      "100%|██████████| 5/5 [00:00<00:00, 81920.00it/s]\n"
     ]
    },
    {
     "name": "stdout",
     "output_type": "stream",
     "text": [
      "get 5 to data/parsed/ceval/dev/accountant_dev.jsonl\n"
     ]
    },
    {
     "name": "stderr",
     "output_type": "stream",
     "text": [
      "100%|██████████| 5/5 [00:00<00:00, 128659.63it/s]\n"
     ]
    },
    {
     "name": "stdout",
     "output_type": "stream",
     "text": [
      "get 5 to data/parsed/ceval/dev/high_school_biology_dev.jsonl\n"
     ]
    },
    {
     "name": "stderr",
     "output_type": "stream",
     "text": [
      "100%|██████████| 5/5 [00:00<00:00, 106997.55it/s]\n"
     ]
    },
    {
     "name": "stdout",
     "output_type": "stream",
     "text": [
      "get 5 to data/parsed/ceval/dev/high_school_physics_dev.jsonl\n"
     ]
    },
    {
     "name": "stderr",
     "output_type": "stream",
     "text": [
      "100%|██████████| 5/5 [00:00<00:00, 19152.07it/s]\n"
     ]
    },
    {
     "name": "stdout",
     "output_type": "stream",
     "text": [
      "get 5 to data/parsed/ceval/dev/metrology_engineer_dev.jsonl\n"
     ]
    },
    {
     "name": "stderr",
     "output_type": "stream",
     "text": [
      "100%|██████████| 5/5 [00:00<00:00, 63167.23it/s]\n"
     ]
    },
    {
     "name": "stdout",
     "output_type": "stream",
     "text": [
      "get 5 to data/parsed/ceval/dev/middle_school_history_dev.jsonl\n"
     ]
    },
    {
     "name": "stderr",
     "output_type": "stream",
     "text": [
      "100%|██████████| 5/5 [00:00<00:00, 108660.73it/s]\n"
     ]
    },
    {
     "name": "stdout",
     "output_type": "stream",
     "text": [
      "get 5 to data/parsed/ceval/dev/art_studies_dev.jsonl\n"
     ]
    },
    {
     "name": "stderr",
     "output_type": "stream",
     "text": [
      "100%|██████████| 5/5 [00:00<00:00, 124091.83it/s]\n"
     ]
    },
    {
     "name": "stdout",
     "output_type": "stream",
     "text": [
      "get 5 to data/parsed/ceval/dev/high_school_history_dev.jsonl\n"
     ]
    },
    {
     "name": "stderr",
     "output_type": "stream",
     "text": [
      "100%|██████████| 5/5 [00:00<00:00, 119156.36it/s]\n"
     ]
    },
    {
     "name": "stdout",
     "output_type": "stream",
     "text": [
      "get 5 to data/parsed/ceval/dev/tax_accountant_dev.jsonl\n"
     ]
    },
    {
     "name": "stderr",
     "output_type": "stream",
     "text": [
      "100%|██████████| 5/5 [00:00<00:00, 116508.44it/s]\n"
     ]
    },
    {
     "name": "stdout",
     "output_type": "stream",
     "text": [
      "get 5 to data/parsed/ceval/dev/middle_school_physics_dev.jsonl\n"
     ]
    },
    {
     "name": "stderr",
     "output_type": "stream",
     "text": [
      "100%|██████████| 5/5 [00:00<00:00, 52692.26it/s]\n"
     ]
    },
    {
     "name": "stdout",
     "output_type": "stream",
     "text": [
      "get 5 to data/parsed/ceval/dev/law_dev.jsonl\n"
     ]
    },
    {
     "name": "stderr",
     "output_type": "stream",
     "text": [
      "100%|██████████| 5/5 [00:00<00:00, 121222.66it/s]\n"
     ]
    },
    {
     "name": "stdout",
     "output_type": "stream",
     "text": [
      "get 5 to data/parsed/ceval/dev/middle_school_biology_dev.jsonl\n"
     ]
    },
    {
     "name": "stderr",
     "output_type": "stream",
     "text": [
      "100%|██████████| 5/5 [00:00<00:00, 82241.25it/s]\n"
     ]
    },
    {
     "name": "stdout",
     "output_type": "stream",
     "text": [
      "get 5 to data/parsed/ceval/dev/high_school_mathematics_dev.jsonl\n"
     ]
    },
    {
     "name": "stderr",
     "output_type": "stream",
     "text": [
      "100%|██████████| 5/5 [00:00<00:00, 100342.20it/s]\n"
     ]
    },
    {
     "name": "stdout",
     "output_type": "stream",
     "text": [
      "get 5 to data/parsed/ceval/dev/legal_professional_dev.jsonl\n"
     ]
    },
    {
     "name": "stderr",
     "output_type": "stream",
     "text": [
      "100%|██████████| 5/5 [00:00<00:00, 96199.63it/s]\n"
     ]
    },
    {
     "name": "stdout",
     "output_type": "stream",
     "text": [
      "get 5 to data/parsed/ceval/dev/middle_school_chemistry_dev.jsonl\n"
     ]
    },
    {
     "name": "stderr",
     "output_type": "stream",
     "text": [
      "100%|██████████| 5/5 [00:00<00:00, 89240.51it/s]\n"
     ]
    },
    {
     "name": "stdout",
     "output_type": "stream",
     "text": [
      "get 5 to data/parsed/ceval/dev/operating_system_dev.jsonl\n"
     ]
    },
    {
     "name": "stderr",
     "output_type": "stream",
     "text": [
      "100%|██████████| 5/5 [00:00<00:00, 101803.50it/s]\n"
     ]
    },
    {
     "name": "stdout",
     "output_type": "stream",
     "text": [
      "get 5 to data/parsed/ceval/dev/computer_architecture_dev.jsonl\n"
     ]
    },
    {
     "name": "stderr",
     "output_type": "stream",
     "text": [
      "100%|██████████| 5/5 [00:00<00:00, 125577.96it/s]\n"
     ]
    },
    {
     "name": "stdout",
     "output_type": "stream",
     "text": [
      "get 5 to data/parsed/ceval/dev/urban_and_rural_planner_dev.jsonl\n"
     ]
    },
    {
     "name": "stderr",
     "output_type": "stream",
     "text": [
      "100%|██████████| 5/5 [00:00<00:00, 94466.31it/s]\n"
     ]
    },
    {
     "name": "stdout",
     "output_type": "stream",
     "text": [
      "get 5 to data/parsed/ceval/dev/college_physics_dev.jsonl\n"
     ]
    },
    {
     "name": "stderr",
     "output_type": "stream",
     "text": [
      "100%|██████████| 5/5 [00:00<00:00, 109226.67it/s]\n"
     ]
    },
    {
     "name": "stdout",
     "output_type": "stream",
     "text": [
      "get 5 to data/parsed/ceval/dev/high_school_geography_dev.jsonl\n"
     ]
    },
    {
     "name": "stderr",
     "output_type": "stream",
     "text": [
      "100%|██████████| 5/5 [00:00<00:00, 26313.07it/s]\n"
     ]
    },
    {
     "name": "stdout",
     "output_type": "stream",
     "text": [
      "get 5 to data/parsed/ceval/dev/modern_chinese_history_dev.jsonl\n"
     ]
    },
    {
     "name": "stderr",
     "output_type": "stream",
     "text": [
      "100%|██████████| 5/5 [00:00<00:00, 101803.50it/s]\n"
     ]
    },
    {
     "name": "stdout",
     "output_type": "stream",
     "text": [
      "get 5 to data/parsed/ceval/dev/middle_school_politics_dev.jsonl\n"
     ]
    },
    {
     "name": "stderr",
     "output_type": "stream",
     "text": [
      "100%|██████████| 5/5 [00:00<00:00, 101803.50it/s]"
     ]
    },
    {
     "name": "stdout",
     "output_type": "stream",
     "text": [
      "get 5 to data/parsed/ceval/dev/business_administration_dev.jsonl\n"
     ]
    },
    {
     "name": "stderr",
     "output_type": "stream",
     "text": [
      "\n",
      "100%|██████████| 5/5 [00:00<00:00, 96199.63it/s]\n"
     ]
    },
    {
     "name": "stdout",
     "output_type": "stream",
     "text": [
      "get 5 to data/parsed/ceval/dev/chinese_language_and_literature_dev.jsonl\n"
     ]
    },
    {
     "name": "stderr",
     "output_type": "stream",
     "text": [
      "100%|██████████| 5/5 [00:00<00:00, 97997.76it/s]\n"
     ]
    },
    {
     "name": "stdout",
     "output_type": "stream",
     "text": [
      "get 5 to data/parsed/ceval/dev/advanced_mathematics_dev.jsonl\n"
     ]
    },
    {
     "name": "stderr",
     "output_type": "stream",
     "text": [
      "100%|██████████| 5/5 [00:00<00:00, 78251.94it/s]\n"
     ]
    },
    {
     "name": "stdout",
     "output_type": "stream",
     "text": [
      "get 5 to data/parsed/ceval/dev/marxism_dev.jsonl\n"
     ]
    },
    {
     "name": "stderr",
     "output_type": "stream",
     "text": [
      "100%|██████████| 5/5 [00:00<00:00, 135300.13it/s]\n"
     ]
    },
    {
     "name": "stdout",
     "output_type": "stream",
     "text": [
      "get 5 to data/parsed/ceval/dev/college_chemistry_dev.jsonl\n"
     ]
    },
    {
     "name": "stderr",
     "output_type": "stream",
     "text": [
      "100%|██████████| 5/5 [00:00<00:00, 108660.73it/s]\n"
     ]
    },
    {
     "name": "stdout",
     "output_type": "stream",
     "text": [
      "get 5 to data/parsed/ceval/dev/middle_school_mathematics_dev.jsonl\n"
     ]
    },
    {
     "name": "stderr",
     "output_type": "stream",
     "text": [
      "100%|██████████| 5/5 [00:00<00:00, 63167.23it/s]\n"
     ]
    },
    {
     "name": "stdout",
     "output_type": "stream",
     "text": [
      "get 5 to data/parsed/ceval/dev/plant_protection_dev.jsonl\n"
     ]
    },
    {
     "name": "stderr",
     "output_type": "stream",
     "text": [
      "100%|██████████| 5/5 [00:00<00:00, 99864.38it/s]\n"
     ]
    },
    {
     "name": "stdout",
     "output_type": "stream",
     "text": [
      "get 5 to data/parsed/ceval/dev/computer_network_dev.jsonl\n"
     ]
    },
    {
     "name": "stderr",
     "output_type": "stream",
     "text": [
      "100%|██████████| 5/5 [00:00<00:00, 95760.37it/s]\n"
     ]
    },
    {
     "name": "stdout",
     "output_type": "stream",
     "text": [
      "get 5 to data/parsed/ceval/dev/ideological_and_moral_cultivation_dev.jsonl\n"
     ]
    },
    {
     "name": "stderr",
     "output_type": "stream",
     "text": [
      "100%|██████████| 5/5 [00:00<00:00, 102300.10it/s]\n"
     ]
    },
    {
     "name": "stdout",
     "output_type": "stream",
     "text": [
      "get 5 to data/parsed/ceval/dev/high_school_chinese_dev.jsonl\n"
     ]
    },
    {
     "name": "stderr",
     "output_type": "stream",
     "text": [
      "100%|██████████| 5/5 [00:00<00:00, 83551.87it/s]\n"
     ]
    },
    {
     "name": "stdout",
     "output_type": "stream",
     "text": [
      "get 5 to data/parsed/ceval/dev/professional_tour_guide_dev.jsonl\n"
     ]
    },
    {
     "name": "stderr",
     "output_type": "stream",
     "text": [
      "100%|██████████| 19/19 [00:00<00:00, 163638.14it/s]\n"
     ]
    },
    {
     "name": "stdout",
     "output_type": "stream",
     "text": [
      "get 19 to data/parsed/ceval/val/high_school_chinese_val.jsonl\n"
     ]
    },
    {
     "name": "stderr",
     "output_type": "stream",
     "text": [
      "100%|██████████| 19/19 [00:00<00:00, 191566.77it/s]\n"
     ]
    },
    {
     "name": "stdout",
     "output_type": "stream",
     "text": [
      "get 19 to data/parsed/ceval/val/ideological_and_moral_cultivation_val.jsonl\n"
     ]
    },
    {
     "name": "stderr",
     "output_type": "stream",
     "text": [
      "100%|██████████| 29/29 [00:00<00:00, 13431.41it/s]\n"
     ]
    },
    {
     "name": "stdout",
     "output_type": "stream",
     "text": [
      "get 29 to data/parsed/ceval/val/professional_tour_guide_val.jsonl\n"
     ]
    },
    {
     "name": "stderr",
     "output_type": "stream",
     "text": [
      "100%|██████████| 24/24 [00:00<00:00, 276547.52it/s]\n"
     ]
    },
    {
     "name": "stdout",
     "output_type": "stream",
     "text": [
      "get 24 to data/parsed/ceval/val/college_chemistry_val.jsonl\n"
     ]
    },
    {
     "name": "stderr",
     "output_type": "stream",
     "text": [
      "100%|██████████| 19/19 [00:00<00:00, 301862.79it/s]\n"
     ]
    },
    {
     "name": "stdout",
     "output_type": "stream",
     "text": [
      "get 19 to data/parsed/ceval/val/middle_school_mathematics_val.jsonl\n"
     ]
    },
    {
     "name": "stderr",
     "output_type": "stream",
     "text": [
      "100%|██████████| 22/22 [00:00<00:00, 248050.24it/s]\n"
     ]
    },
    {
     "name": "stdout",
     "output_type": "stream",
     "text": [
      "get 22 to data/parsed/ceval/val/plant_protection_val.jsonl\n"
     ]
    },
    {
     "name": "stderr",
     "output_type": "stream",
     "text": [
      "100%|██████████| 19/19 [00:00<00:00, 260430.64it/s]\n"
     ]
    },
    {
     "name": "stdout",
     "output_type": "stream",
     "text": [
      "get 19 to data/parsed/ceval/val/computer_network_val.jsonl\n"
     ]
    },
    {
     "name": "stderr",
     "output_type": "stream",
     "text": [
      "100%|██████████| 21/21 [00:00<00:00, 291656.90it/s]\n"
     ]
    },
    {
     "name": "stdout",
     "output_type": "stream",
     "text": [
      "get 21 to data/parsed/ceval/val/middle_school_politics_val.jsonl\n"
     ]
    },
    {
     "name": "stderr",
     "output_type": "stream",
     "text": [
      "100%|██████████| 23/23 [00:00<00:00, 372467.15it/s]\n"
     ]
    },
    {
     "name": "stdout",
     "output_type": "stream",
     "text": [
      "get 23 to data/parsed/ceval/val/modern_chinese_history_val.jsonl\n"
     ]
    },
    {
     "name": "stderr",
     "output_type": "stream",
     "text": [
      "100%|██████████| 33/33 [00:00<00:00, 439403.28it/s]\n"
     ]
    },
    {
     "name": "stdout",
     "output_type": "stream",
     "text": [
      "get 33 to data/parsed/ceval/val/business_administration_val.jsonl\n"
     ]
    },
    {
     "name": "stderr",
     "output_type": "stream",
     "text": [
      "100%|██████████| 19/19 [00:00<00:00, 344986.04it/s]\n"
     ]
    },
    {
     "name": "stdout",
     "output_type": "stream",
     "text": [
      "get 19 to data/parsed/ceval/val/marxism_val.jsonl\n"
     ]
    },
    {
     "name": "stderr",
     "output_type": "stream",
     "text": [
      "100%|██████████| 23/23 [00:00<00:00, 332651.70it/s]\n"
     ]
    },
    {
     "name": "stdout",
     "output_type": "stream",
     "text": [
      "get 23 to data/parsed/ceval/val/chinese_language_and_literature_val.jsonl\n"
     ]
    },
    {
     "name": "stderr",
     "output_type": "stream",
     "text": [
      "100%|██████████| 19/19 [00:00<00:00, 287695.94it/s]\n"
     ]
    },
    {
     "name": "stdout",
     "output_type": "stream",
     "text": [
      "get 19 to data/parsed/ceval/val/advanced_mathematics_val.jsonl\n"
     ]
    },
    {
     "name": "stderr",
     "output_type": "stream",
     "text": [
      "100%|██████████| 19/19 [00:00<00:00, 312516.77it/s]\n"
     ]
    },
    {
     "name": "stdout",
     "output_type": "stream",
     "text": [
      "get 19 to data/parsed/ceval/val/college_physics_val.jsonl\n"
     ]
    },
    {
     "name": "stderr",
     "output_type": "stream",
     "text": [
      "100%|██████████| 19/19 [00:00<00:00, 237885.90it/s]\n"
     ]
    },
    {
     "name": "stdout",
     "output_type": "stream",
     "text": [
      "get 19 to data/parsed/ceval/val/high_school_geography_val.jsonl\n"
     ]
    },
    {
     "name": "stderr",
     "output_type": "stream",
     "text": [
      "100%|██████████| 46/46 [00:00<00:00, 403635.95it/s]\n"
     ]
    },
    {
     "name": "stdout",
     "output_type": "stream",
     "text": [
      "get 46 to data/parsed/ceval/val/urban_and_rural_planner_val.jsonl\n"
     ]
    },
    {
     "name": "stderr",
     "output_type": "stream",
     "text": [
      "100%|██████████| 23/23 [00:00<00:00, 395364.72it/s]\n"
     ]
    },
    {
     "name": "stdout",
     "output_type": "stream",
     "text": [
      "get 23 to data/parsed/ceval/val/legal_professional_val.jsonl\n"
     ]
    },
    {
     "name": "stderr",
     "output_type": "stream",
     "text": [
      "100%|██████████| 19/19 [00:00<00:00, 283600.63it/s]\n"
     ]
    },
    {
     "name": "stdout",
     "output_type": "stream",
     "text": [
      "get 19 to data/parsed/ceval/val/operating_system_val.jsonl\n"
     ]
    },
    {
     "name": "stderr",
     "output_type": "stream",
     "text": [
      "100%|██████████| 21/21 [00:00<00:00, 276114.06it/s]\n"
     ]
    },
    {
     "name": "stdout",
     "output_type": "stream",
     "text": [
      "get 21 to data/parsed/ceval/val/computer_architecture_val.jsonl\n"
     ]
    },
    {
     "name": "stderr",
     "output_type": "stream",
     "text": [
      "100%|██████████| 20/20 [00:00<00:00, 321402.61it/s]\n"
     ]
    },
    {
     "name": "stdout",
     "output_type": "stream",
     "text": [
      "get 20 to data/parsed/ceval/val/middle_school_chemistry_val.jsonl\n"
     ]
    },
    {
     "name": "stderr",
     "output_type": "stream",
     "text": [
      "100%|██████████| 20/20 [00:00<00:00, 289262.34it/s]\n"
     ]
    },
    {
     "name": "stdout",
     "output_type": "stream",
     "text": [
      "get 20 to data/parsed/ceval/val/high_school_history_val.jsonl\n"
     ]
    },
    {
     "name": "stderr",
     "output_type": "stream",
     "text": [
      "100%|██████████| 49/49 [00:00<00:00, 375038.13it/s]\n"
     ]
    },
    {
     "name": "stdout",
     "output_type": "stream",
     "text": [
      "get 49 to data/parsed/ceval/val/tax_accountant_val.jsonl\n"
     ]
    },
    {
     "name": "stderr",
     "output_type": "stream",
     "text": [
      "100%|██████████| 21/21 [00:00<00:00, 349525.33it/s]\n"
     ]
    },
    {
     "name": "stdout",
     "output_type": "stream",
     "text": [
      "get 21 to data/parsed/ceval/val/middle_school_biology_val.jsonl\n"
     ]
    },
    {
     "name": "stderr",
     "output_type": "stream",
     "text": [
      "100%|██████████| 24/24 [00:00<00:00, 353204.55it/s]\n"
     ]
    },
    {
     "name": "stdout",
     "output_type": "stream",
     "text": [
      "get 24 to data/parsed/ceval/val/law_val.jsonl\n"
     ]
    },
    {
     "name": "stderr",
     "output_type": "stream",
     "text": [
      "100%|██████████| 18/18 [00:00<00:00, 218833.25it/s]\n"
     ]
    },
    {
     "name": "stdout",
     "output_type": "stream",
     "text": [
      "get 18 to data/parsed/ceval/val/high_school_mathematics_val.jsonl\n"
     ]
    },
    {
     "name": "stderr",
     "output_type": "stream",
     "text": [
      "100%|██████████| 19/19 [00:00<00:00, 256243.65it/s]\n"
     ]
    },
    {
     "name": "stdout",
     "output_type": "stream",
     "text": [
      "get 19 to data/parsed/ceval/val/middle_school_physics_val.jsonl\n"
     ]
    },
    {
     "name": "stderr",
     "output_type": "stream",
     "text": [
      "100%|██████████| 19/19 [00:00<00:00, 339113.94it/s]\n"
     ]
    },
    {
     "name": "stdout",
     "output_type": "stream",
     "text": [
      "get 19 to data/parsed/ceval/val/high_school_physics_val.jsonl\n"
     ]
    },
    {
     "name": "stderr",
     "output_type": "stream",
     "text": [
      "100%|██████████| 19/19 [00:00<00:00, 306506.83it/s]\n"
     ]
    },
    {
     "name": "stdout",
     "output_type": "stream",
     "text": [
      "get 19 to data/parsed/ceval/val/high_school_biology_val.jsonl\n"
     ]
    },
    {
     "name": "stderr",
     "output_type": "stream",
     "text": [
      "100%|██████████| 22/22 [00:00<00:00, 249391.05it/s]\n"
     ]
    },
    {
     "name": "stdout",
     "output_type": "stream",
     "text": [
      "get 22 to data/parsed/ceval/val/middle_school_history_val.jsonl\n"
     ]
    },
    {
     "name": "stderr",
     "output_type": "stream",
     "text": [
      "100%|██████████| 33/33 [00:00<00:00, 84397.58it/s]\n"
     ]
    },
    {
     "name": "stdout",
     "output_type": "stream",
     "text": [
      "get 33 to data/parsed/ceval/val/art_studies_val.jsonl\n"
     ]
    },
    {
     "name": "stderr",
     "output_type": "stream",
     "text": [
      "100%|██████████| 24/24 [00:00<00:00, 89877.94it/s]\n"
     ]
    },
    {
     "name": "stdout",
     "output_type": "stream",
     "text": [
      "get 24 to data/parsed/ceval/val/metrology_engineer_val.jsonl\n"
     ]
    },
    {
     "name": "stderr",
     "output_type": "stream",
     "text": [
      "100%|██████████| 19/19 [00:00<00:00, 73381.01it/s]\n"
     ]
    },
    {
     "name": "stdout",
     "output_type": "stream",
     "text": [
      "get 19 to data/parsed/ceval/val/basic_medicine_val.jsonl\n"
     ]
    },
    {
     "name": "stderr",
     "output_type": "stream",
     "text": [
      "100%|██████████| 37/37 [00:00<00:00, 406254.58it/s]\n"
     ]
    },
    {
     "name": "stdout",
     "output_type": "stream",
     "text": [
      "get 37 to data/parsed/ceval/val/electrical_engineer_val.jsonl\n"
     ]
    },
    {
     "name": "stderr",
     "output_type": "stream",
     "text": [
      "100%|██████████| 22/22 [00:00<00:00, 27036.24it/s]\n"
     ]
    },
    {
     "name": "stdout",
     "output_type": "stream",
     "text": [
      "get 22 to data/parsed/ceval/val/logic_val.jsonl\n"
     ]
    },
    {
     "name": "stderr",
     "output_type": "stream",
     "text": [
      "100%|██████████| 19/19 [00:00<00:00, 138835.85it/s]\n"
     ]
    },
    {
     "name": "stdout",
     "output_type": "stream",
     "text": [
      "get 19 to data/parsed/ceval/val/sports_science_val.jsonl\n"
     ]
    },
    {
     "name": "stderr",
     "output_type": "stream",
     "text": [
      "100%|██████████| 49/49 [00:00<00:00, 376411.90it/s]\n"
     ]
    },
    {
     "name": "stdout",
     "output_type": "stream",
     "text": [
      "get 49 to data/parsed/ceval/val/accountant_val.jsonl\n"
     ]
    },
    {
     "name": "stderr",
     "output_type": "stream",
     "text": [
      "100%|██████████| 16/16 [00:00<00:00, 232210.60it/s]\n"
     ]
    },
    {
     "name": "stdout",
     "output_type": "stream",
     "text": [
      "get 16 to data/parsed/ceval/val/discrete_mathematics_val.jsonl\n"
     ]
    },
    {
     "name": "stderr",
     "output_type": "stream",
     "text": [
      "100%|██████████| 31/31 [00:00<00:00, 377975.07it/s]\n"
     ]
    },
    {
     "name": "stdout",
     "output_type": "stream",
     "text": [
      "get 31 to data/parsed/ceval/val/fire_engineer_val.jsonl\n"
     ]
    },
    {
     "name": "stderr",
     "output_type": "stream",
     "text": [
      "100%|██████████| 19/19 [00:00<00:00, 228999.36it/s]\n"
     ]
    },
    {
     "name": "stdout",
     "output_type": "stream",
     "text": [
      "get 19 to data/parsed/ceval/val/high_school_chemistry_val.jsonl\n"
     ]
    },
    {
     "name": "stderr",
     "output_type": "stream",
     "text": [
      "100%|██████████| 55/55 [00:00<00:00, 457711.75it/s]\n"
     ]
    },
    {
     "name": "stdout",
     "output_type": "stream",
     "text": [
      "get 55 to data/parsed/ceval/val/college_economics_val.jsonl\n"
     ]
    },
    {
     "name": "stderr",
     "output_type": "stream",
     "text": [
      "100%|██████████| 18/18 [00:00<00:00, 162011.74it/s]\n"
     ]
    },
    {
     "name": "stdout",
     "output_type": "stream",
     "text": [
      "get 18 to data/parsed/ceval/val/probability_and_statistics_val.jsonl\n"
     ]
    },
    {
     "name": "stderr",
     "output_type": "stream",
     "text": [
      "100%|██████████| 19/19 [00:00<00:00, 45799.87it/s]\n"
     ]
    },
    {
     "name": "stdout",
     "output_type": "stream",
     "text": [
      "get 19 to data/parsed/ceval/val/high_school_politics_val.jsonl\n"
     ]
    },
    {
     "name": "stderr",
     "output_type": "stream",
     "text": [
      "100%|██████████| 22/22 [00:00<00:00, 308611.00it/s]\n"
     ]
    },
    {
     "name": "stdout",
     "output_type": "stream",
     "text": [
      "get 22 to data/parsed/ceval/val/clinical_medicine_val.jsonl\n"
     ]
    },
    {
     "name": "stderr",
     "output_type": "stream",
     "text": [
      "100%|██████████| 23/23 [00:00<00:00, 348263.51it/s]\n"
     ]
    },
    {
     "name": "stdout",
     "output_type": "stream",
     "text": [
      "get 23 to data/parsed/ceval/val/veterinary_medicine_val.jsonl\n"
     ]
    },
    {
     "name": "stderr",
     "output_type": "stream",
     "text": [
      "100%|██████████| 47/47 [00:00<00:00, 448027.93it/s]\n"
     ]
    },
    {
     "name": "stdout",
     "output_type": "stream",
     "text": [
      "get 47 to data/parsed/ceval/val/civil_servant_val.jsonl\n"
     ]
    },
    {
     "name": "stderr",
     "output_type": "stream",
     "text": [
      "100%|██████████| 24/24 [00:00<00:00, 364722.09it/s]\n"
     ]
    },
    {
     "name": "stdout",
     "output_type": "stream",
     "text": [
      "get 24 to data/parsed/ceval/val/mao_zedong_thought_val.jsonl\n"
     ]
    },
    {
     "name": "stderr",
     "output_type": "stream",
     "text": [
      "100%|██████████| 49/49 [00:00<00:00, 437278.50it/s]\n"
     ]
    },
    {
     "name": "stdout",
     "output_type": "stream",
     "text": [
      "get 49 to data/parsed/ceval/val/physician_val.jsonl\n"
     ]
    },
    {
     "name": "stderr",
     "output_type": "stream",
     "text": [
      "100%|██████████| 37/37 [00:00<00:00, 385084.98it/s]\n"
     ]
    },
    {
     "name": "stdout",
     "output_type": "stream",
     "text": [
      "get 37 to data/parsed/ceval/val/college_programming_val.jsonl\n"
     ]
    },
    {
     "name": "stderr",
     "output_type": "stream",
     "text": [
      "100%|██████████| 12/12 [00:00<00:00, 197379.01it/s]\n"
     ]
    },
    {
     "name": "stdout",
     "output_type": "stream",
     "text": [
      "get 12 to data/parsed/ceval/val/middle_school_geography_val.jsonl\n"
     ]
    },
    {
     "name": "stderr",
     "output_type": "stream",
     "text": [
      "100%|██████████| 31/31 [00:00<00:00, 383549.92it/s]\n"
     ]
    },
    {
     "name": "stdout",
     "output_type": "stream",
     "text": [
      "get 31 to data/parsed/ceval/val/environmental_impact_assessment_engineer_val.jsonl\n"
     ]
    },
    {
     "name": "stderr",
     "output_type": "stream",
     "text": [
      "100%|██████████| 29/29 [00:00<00:00, 273336.67it/s]\n"
     ]
    },
    {
     "name": "stdout",
     "output_type": "stream",
     "text": [
      "get 29 to data/parsed/ceval/val/education_science_val.jsonl\n"
     ]
    },
    {
     "name": "stderr",
     "output_type": "stream",
     "text": [
      "100%|██████████| 44/44 [00:00<00:00, 428188.81it/s]\n"
     ]
    },
    {
     "name": "stdout",
     "output_type": "stream",
     "text": [
      "get 44 to data/parsed/ceval/val/teacher_qualification_val.jsonl\n"
     ]
    }
   ],
   "source": [
    "## parse ceval\n",
    "\n",
    "def parse_ceval(item):\n",
    "    question = item[\"question\"]\n",
    "    answer = item.get(\"answer\")\n",
    "    options = {k:v for k,v in item.items() if k in list(\"ABCD\")}\n",
    "    return dict(question= question,answer=answer,options=options,label=\"ceval\")\n",
    "\n",
    "import glob\n",
    "from snippets import load2list, dump2list\n",
    "from tqdm import tqdm\n",
    "for path in glob.glob(\"data/raw/ceval/**/*.csv\"):\n",
    "    items = load2list(path)\n",
    "    tgt_path = path.replace(\"raw\",\"parsed\").replace(\".csv\",\".jsonl\")\n",
    "    rs_items = [parse_ceval(item) for item in tqdm(items)]\n",
    "    print(f\"get {len(rs_items)} to {tgt_path}\")\n",
    "    dump2list(rs_items, tgt_path)\n",
    "    # break\n",
    "    \n",
    "    \n",
    "    \n",
    "\n",
    "\n"
   ]
  },
  {
   "cell_type": "code",
   "execution_count": 6,
   "metadata": {},
   "outputs": [
    {
     "data": {
      "text/plain": [
       "['data/raw/ceval/test/probability_and_statistics_test.csv',\n",
       " 'data/raw/ceval/test/high_school_politics_test.csv',\n",
       " 'data/raw/ceval/test/mao_zedong_thought_test.csv',\n",
       " 'data/raw/ceval/test/middle_school_chemistry_test.csv',\n",
       " 'data/raw/ceval/test/urban_and_rural_planner_test.csv',\n",
       " 'data/raw/ceval/test/college_economics_test.csv',\n",
       " 'data/raw/ceval/test/accountant_test.csv',\n",
       " 'data/raw/ceval/test/high_school_chemistry_test.csv',\n",
       " 'data/raw/ceval/test/sports_science_test.csv',\n",
       " 'data/raw/ceval/test/college_physics_test.csv',\n",
       " 'data/raw/ceval/test/veterinary_medicine_test.csv',\n",
       " 'data/raw/ceval/test/middle_school_biology_test.csv',\n",
       " 'data/raw/ceval/test/physician_test.csv',\n",
       " 'data/raw/ceval/test/ideological_and_moral_cultivation_test.csv',\n",
       " 'data/raw/ceval/test/high_school_chinese_test.csv',\n",
       " 'data/raw/ceval/test/middle_school_mathematics_test.csv',\n",
       " 'data/raw/ceval/test/plant_protection_test.csv',\n",
       " 'data/raw/ceval/test/metrology_engineer_test.csv',\n",
       " 'data/raw/ceval/test/tax_accountant_test.csv',\n",
       " 'data/raw/ceval/test/modern_chinese_history_test.csv',\n",
       " 'data/raw/ceval/test/high_school_physics_test.csv',\n",
       " 'data/raw/ceval/test/middle_school_history_test.csv',\n",
       " 'data/raw/ceval/test/fire_engineer_test.csv',\n",
       " 'data/raw/ceval/test/computer_architecture_test.csv',\n",
       " 'data/raw/ceval/test/professional_tour_guide_test.csv',\n",
       " 'data/raw/ceval/test/art_studies_test.csv',\n",
       " 'data/raw/ceval/test/teacher_qualification_test.csv',\n",
       " 'data/raw/ceval/test/high_school_geography_test.csv',\n",
       " 'data/raw/ceval/test/education_science_test.csv',\n",
       " 'data/raw/ceval/test/logic_test.csv',\n",
       " 'data/raw/ceval/test/business_administration_test.csv',\n",
       " 'data/raw/ceval/test/operating_system_test.csv',\n",
       " 'data/raw/ceval/test/civil_servant_test.csv',\n",
       " 'data/raw/ceval/test/college_programming_test.csv',\n",
       " 'data/raw/ceval/test/high_school_biology_test.csv',\n",
       " 'data/raw/ceval/test/law_test.csv',\n",
       " 'data/raw/ceval/test/middle_school_geography_test.csv',\n",
       " 'data/raw/ceval/test/college_chemistry_test.csv',\n",
       " 'data/raw/ceval/test/basic_medicine_test.csv',\n",
       " 'data/raw/ceval/test/middle_school_physics_test.csv',\n",
       " 'data/raw/ceval/test/clinical_medicine_test.csv',\n",
       " 'data/raw/ceval/test/advanced_mathematics_test.csv',\n",
       " 'data/raw/ceval/test/middle_school_politics_test.csv',\n",
       " 'data/raw/ceval/test/electrical_engineer_test.csv',\n",
       " 'data/raw/ceval/test/chinese_language_and_literature_test.csv',\n",
       " 'data/raw/ceval/test/legal_professional_test.csv',\n",
       " 'data/raw/ceval/test/environmental_impact_assessment_engineer_test.csv',\n",
       " 'data/raw/ceval/test/high_school_mathematics_test.csv',\n",
       " 'data/raw/ceval/test/discrete_mathematics_test.csv',\n",
       " 'data/raw/ceval/test/marxism_test.csv',\n",
       " 'data/raw/ceval/test/computer_network_test.csv',\n",
       " 'data/raw/ceval/test/high_school_history_test.csv',\n",
       " 'data/raw/ceval/dev/teacher_qualification_dev.csv',\n",
       " 'data/raw/ceval/dev/environmental_impact_assessment_engineer_dev.csv',\n",
       " 'data/raw/ceval/dev/college_programming_dev.csv',\n",
       " 'data/raw/ceval/dev/middle_school_geography_dev.csv',\n",
       " 'data/raw/ceval/dev/education_science_dev.csv',\n",
       " 'data/raw/ceval/dev/civil_servant_dev.csv',\n",
       " 'data/raw/ceval/dev/mao_zedong_thought_dev.csv',\n",
       " 'data/raw/ceval/dev/physician_dev.csv',\n",
       " 'data/raw/ceval/dev/veterinary_medicine_dev.csv',\n",
       " 'data/raw/ceval/dev/clinical_medicine_dev.csv',\n",
       " 'data/raw/ceval/dev/high_school_chemistry_dev.csv',\n",
       " 'data/raw/ceval/dev/fire_engineer_dev.csv',\n",
       " 'data/raw/ceval/dev/probability_and_statistics_dev.csv',\n",
       " 'data/raw/ceval/dev/college_economics_dev.csv',\n",
       " 'data/raw/ceval/dev/high_school_politics_dev.csv',\n",
       " 'data/raw/ceval/dev/discrete_mathematics_dev.csv',\n",
       " 'data/raw/ceval/dev/basic_medicine_dev.csv',\n",
       " 'data/raw/ceval/dev/electrical_engineer_dev.csv',\n",
       " 'data/raw/ceval/dev/logic_dev.csv',\n",
       " 'data/raw/ceval/dev/sports_science_dev.csv',\n",
       " 'data/raw/ceval/dev/accountant_dev.csv',\n",
       " 'data/raw/ceval/dev/high_school_biology_dev.csv',\n",
       " 'data/raw/ceval/dev/high_school_physics_dev.csv',\n",
       " 'data/raw/ceval/dev/metrology_engineer_dev.csv',\n",
       " 'data/raw/ceval/dev/middle_school_history_dev.csv',\n",
       " 'data/raw/ceval/dev/art_studies_dev.csv',\n",
       " 'data/raw/ceval/dev/high_school_history_dev.csv',\n",
       " 'data/raw/ceval/dev/tax_accountant_dev.csv',\n",
       " 'data/raw/ceval/dev/middle_school_physics_dev.csv',\n",
       " 'data/raw/ceval/dev/law_dev.csv',\n",
       " 'data/raw/ceval/dev/middle_school_biology_dev.csv',\n",
       " 'data/raw/ceval/dev/high_school_mathematics_dev.csv',\n",
       " 'data/raw/ceval/dev/legal_professional_dev.csv',\n",
       " 'data/raw/ceval/dev/middle_school_chemistry_dev.csv',\n",
       " 'data/raw/ceval/dev/operating_system_dev.csv',\n",
       " 'data/raw/ceval/dev/computer_architecture_dev.csv',\n",
       " 'data/raw/ceval/dev/urban_and_rural_planner_dev.csv',\n",
       " 'data/raw/ceval/dev/college_physics_dev.csv',\n",
       " 'data/raw/ceval/dev/high_school_geography_dev.csv',\n",
       " 'data/raw/ceval/dev/modern_chinese_history_dev.csv',\n",
       " 'data/raw/ceval/dev/middle_school_politics_dev.csv',\n",
       " 'data/raw/ceval/dev/business_administration_dev.csv',\n",
       " 'data/raw/ceval/dev/chinese_language_and_literature_dev.csv',\n",
       " 'data/raw/ceval/dev/advanced_mathematics_dev.csv',\n",
       " 'data/raw/ceval/dev/marxism_dev.csv',\n",
       " 'data/raw/ceval/dev/college_chemistry_dev.csv',\n",
       " 'data/raw/ceval/dev/middle_school_mathematics_dev.csv',\n",
       " 'data/raw/ceval/dev/plant_protection_dev.csv',\n",
       " 'data/raw/ceval/dev/computer_network_dev.csv',\n",
       " 'data/raw/ceval/dev/ideological_and_moral_cultivation_dev.csv',\n",
       " 'data/raw/ceval/dev/high_school_chinese_dev.csv',\n",
       " 'data/raw/ceval/dev/professional_tour_guide_dev.csv',\n",
       " 'data/raw/ceval/val/high_school_chinese_val.csv',\n",
       " 'data/raw/ceval/val/ideological_and_moral_cultivation_val.csv',\n",
       " 'data/raw/ceval/val/professional_tour_guide_val.csv',\n",
       " 'data/raw/ceval/val/college_chemistry_val.csv',\n",
       " 'data/raw/ceval/val/middle_school_mathematics_val.csv',\n",
       " 'data/raw/ceval/val/plant_protection_val.csv',\n",
       " 'data/raw/ceval/val/computer_network_val.csv',\n",
       " 'data/raw/ceval/val/middle_school_politics_val.csv',\n",
       " 'data/raw/ceval/val/modern_chinese_history_val.csv',\n",
       " 'data/raw/ceval/val/business_administration_val.csv',\n",
       " 'data/raw/ceval/val/marxism_val.csv',\n",
       " 'data/raw/ceval/val/chinese_language_and_literature_val.csv',\n",
       " 'data/raw/ceval/val/advanced_mathematics_val.csv',\n",
       " 'data/raw/ceval/val/college_physics_val.csv',\n",
       " 'data/raw/ceval/val/high_school_geography_val.csv',\n",
       " 'data/raw/ceval/val/urban_and_rural_planner_val.csv',\n",
       " 'data/raw/ceval/val/legal_professional_val.csv',\n",
       " 'data/raw/ceval/val/operating_system_val.csv',\n",
       " 'data/raw/ceval/val/computer_architecture_val.csv',\n",
       " 'data/raw/ceval/val/middle_school_chemistry_val.csv',\n",
       " 'data/raw/ceval/val/high_school_history_val.csv',\n",
       " 'data/raw/ceval/val/tax_accountant_val.csv',\n",
       " 'data/raw/ceval/val/middle_school_biology_val.csv',\n",
       " 'data/raw/ceval/val/law_val.csv',\n",
       " 'data/raw/ceval/val/high_school_mathematics_val.csv',\n",
       " 'data/raw/ceval/val/middle_school_physics_val.csv',\n",
       " 'data/raw/ceval/val/high_school_physics_val.csv',\n",
       " 'data/raw/ceval/val/high_school_biology_val.csv',\n",
       " 'data/raw/ceval/val/middle_school_history_val.csv',\n",
       " 'data/raw/ceval/val/art_studies_val.csv',\n",
       " 'data/raw/ceval/val/metrology_engineer_val.csv',\n",
       " 'data/raw/ceval/val/basic_medicine_val.csv',\n",
       " 'data/raw/ceval/val/electrical_engineer_val.csv',\n",
       " 'data/raw/ceval/val/logic_val.csv',\n",
       " 'data/raw/ceval/val/sports_science_val.csv',\n",
       " 'data/raw/ceval/val/accountant_val.csv',\n",
       " 'data/raw/ceval/val/discrete_mathematics_val.csv',\n",
       " 'data/raw/ceval/val/fire_engineer_val.csv',\n",
       " 'data/raw/ceval/val/high_school_chemistry_val.csv',\n",
       " 'data/raw/ceval/val/college_economics_val.csv',\n",
       " 'data/raw/ceval/val/probability_and_statistics_val.csv',\n",
       " 'data/raw/ceval/val/high_school_politics_val.csv',\n",
       " 'data/raw/ceval/val/clinical_medicine_val.csv',\n",
       " 'data/raw/ceval/val/veterinary_medicine_val.csv',\n",
       " 'data/raw/ceval/val/civil_servant_val.csv',\n",
       " 'data/raw/ceval/val/mao_zedong_thought_val.csv',\n",
       " 'data/raw/ceval/val/physician_val.csv',\n",
       " 'data/raw/ceval/val/college_programming_val.csv',\n",
       " 'data/raw/ceval/val/middle_school_geography_val.csv',\n",
       " 'data/raw/ceval/val/environmental_impact_assessment_engineer_val.csv',\n",
       " 'data/raw/ceval/val/education_science_val.csv',\n",
       " 'data/raw/ceval/val/teacher_qualification_val.csv']"
      ]
     },
     "execution_count": 6,
     "metadata": {},
     "output_type": "execute_result"
    }
   ],
   "source": [
    "import glob\n",
    "glob.glob(\"data/raw/ceval/**/*.csv\")"
   ]
  }
 ],
 "metadata": {
  "kernelspec": {
   "display_name": "llm_demo",
   "language": "python",
   "name": "python3"
  },
  "language_info": {
   "codemirror_mode": {
    "name": "ipython",
    "version": 3
   },
   "file_extension": ".py",
   "mimetype": "text/x-python",
   "name": "python",
   "nbconvert_exporter": "python",
   "pygments_lexer": "ipython3",
   "version": "3.10.12"
  }
 },
 "nbformat": 4,
 "nbformat_minor": 2
}
